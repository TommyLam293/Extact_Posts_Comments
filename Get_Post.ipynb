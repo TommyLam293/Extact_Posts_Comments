{
 "cells": [
  {
   "cell_type": "code",
   "execution_count": 3,
   "metadata": {
    "collapsed": true
   },
   "outputs": [],
   "source": [
    "import requests\n",
    "from bs4 import BeautifulSoup\n",
    "import regex as re\n",
    "import csv\n",
    "import pandas as pd"
   ]
  },
  {
   "cell_type": "markdown",
   "metadata": {},
   "source": [
    "# Input URL for Extraction"
   ]
  },
  {
   "cell_type": "code",
   "execution_count": 4,
   "metadata": {
    "collapsed": true
   },
   "outputs": [],
   "source": [
    "url = 'http://www.discuss.com.hk/forumdisplay.php?fid=39'"
   ]
  },
  {
   "cell_type": "code",
   "execution_count": 5,
   "metadata": {},
   "outputs": [
    {
     "data": {
      "text/plain": [
       "<Response [200]>"
      ]
     },
     "execution_count": 5,
     "metadata": {},
     "output_type": "execute_result"
    }
   ],
   "source": [
    "response = requests.get(url)\n",
    "response.raise_for_status()\n",
    "response.encoding = \"big5\"\n",
    "\n",
    "response"
   ]
  },
  {
   "cell_type": "markdown",
   "metadata": {},
   "source": [
    "# Create to CSV"
   ]
  },
  {
   "cell_type": "code",
   "execution_count": 6,
   "metadata": {},
   "outputs": [
    {
     "data": {
      "text/plain": [
       "37"
      ]
     },
     "execution_count": 6,
     "metadata": {},
     "output_type": "execute_result"
    }
   ],
   "source": [
    "post_csv = open('post.csv', 'w', encoding='utf-8-sig')\n",
    "\n",
    "post_csv_writer = csv.writer(post_csv)\n",
    "post_csv_writer.writerow(['post_id', 'author_id', 'post_date', 'subject'])"
   ]
  },
  {
   "cell_type": "code",
   "execution_count": 7,
   "metadata": {
    "collapsed": true
   },
   "outputs": [],
   "source": [
    "soup = BeautifulSoup(response.text, 'lxml')"
   ]
  },
  {
   "cell_type": "markdown",
   "metadata": {},
   "source": [
    "# Get Number of Pages"
   ]
  },
  {
   "cell_type": "code",
   "execution_count": 8,
   "metadata": {},
   "outputs": [
    {
     "name": "stdout",
     "output_type": "stream",
     "text": [
      "558\n"
     ]
    }
   ],
   "source": [
    "# Number of Pages\n",
    "\n",
    "last = soup.find('a', class_='last')\n",
    "\n",
    "if last is not None:\n",
    "    last_page = last.text.split(' ')[1]\n",
    "else:\n",
    "    last_page = soup.find('div', class_='pages').find_all('a')[-2].text\n",
    "    \n",
    "print(last_page)"
   ]
  },
  {
   "cell_type": "markdown",
   "metadata": {},
   "source": [
    "# Store the data to CSV"
   ]
  },
  {
   "cell_type": "code",
   "execution_count": 9,
   "metadata": {},
   "outputs": [
    {
     "name": "stdout",
     "output_type": "stream",
     "text": [
      "http://www.discuss.com.hk/forumdisplay.php?fid=39&page=1\n",
      "\n",
      "<Response [200]>\n",
      "\n",
      "http://www.discuss.com.hk/forumdisplay.php?fid=39&page=2\n",
      "\n",
      "<Response [200]>\n",
      "\n",
      "http://www.discuss.com.hk/forumdisplay.php?fid=39&page=3\n",
      "\n",
      "<Response [200]>\n",
      "\n",
      "http://www.discuss.com.hk/forumdisplay.php?fid=39&page=4\n",
      "\n",
      "<Response [200]>\n",
      "\n",
      "http://www.discuss.com.hk/forumdisplay.php?fid=39&page=5\n",
      "\n",
      "<Response [200]>\n",
      "\n",
      "http://www.discuss.com.hk/forumdisplay.php?fid=39&page=6\n",
      "\n",
      "<Response [200]>\n",
      "\n",
      "http://www.discuss.com.hk/forumdisplay.php?fid=39&page=7\n",
      "\n",
      "<Response [200]>\n",
      "\n",
      "http://www.discuss.com.hk/forumdisplay.php?fid=39&page=8\n",
      "\n",
      "<Response [200]>\n",
      "\n",
      "http://www.discuss.com.hk/forumdisplay.php?fid=39&page=9\n",
      "\n",
      "<Response [200]>\n",
      "\n",
      "http://www.discuss.com.hk/forumdisplay.php?fid=39&page=10\n",
      "\n",
      "<Response [200]>\n",
      "\n",
      "http://www.discuss.com.hk/forumdisplay.php?fid=39&page=11\n",
      "\n",
      "<Response [200]>\n",
      "\n"
     ]
    }
   ],
   "source": [
    "count = 1\n",
    "for i in range(0, int(last_page)):\n",
    "    if i > 10:\n",
    "        break\n",
    "        \n",
    "    markup = url + '&page=' + str(i+1)\n",
    "#     print(markup)\n",
    "#     print()\n",
    "    \n",
    "    response = requests.get(markup)\n",
    "    response.raise_for_status()\n",
    "    response.encoding = \"big5\"\n",
    "    print(response)\n",
    "    print()\n",
    "    \n",
    "    soup = BeautifulSoup(response.text, 'lxml')\n",
    "\n",
    "    mainbox_viewthreads = soup.find_all('div', class_='mainbox viewthread')\n",
    "        \n",
    "    threads = soup.find_all(\"tbody\", {\"id\" : re.compile('normalthread_*')})\n",
    "\n",
    "    for thread in threads:\n",
    "\n",
    "        tsubject = thread.find('span', class_='tsubject')\n",
    "        subject_id = tsubject['id'].strip().split('_')[1]\n",
    "        subject = tsubject.text.strip()\n",
    "\n",
    "        author_id = thread.find('td', class_='author').a['href'].strip().split('=')[2]\n",
    "        author = thread.find('td', class_='author').a.text.strip()\n",
    "\n",
    "        post_date = thread.find('td', class_='author').em.text.strip()\n",
    "        \n",
    "        post_csv_writer.writerow([subject_id, author_id, post_date, subject])\n",
    "        \n",
    "        count += 1\n",
    "\n",
    "post_csv.close()"
   ]
  },
  {
   "cell_type": "code",
   "execution_count": 2,
   "metadata": {
    "collapsed": true
   },
   "outputs": [],
   "source": [
    "#         print('Count: ', count)\n",
    "\n",
    "#         print('Subject ID: ', subject_id)\n",
    "#         print('Subject: ', subject)\n",
    "\n",
    "#         print('Author ID: ', author_id)\n",
    "#         print('Author: ', author)\n",
    "\n",
    "#         print('Post Date: ', post_date)\n",
    "    \n",
    "#         print()\n",
    "#         print('<--------------------------------------------------------------------------------------------->')\n",
    "#         print() "
   ]
  },
  {
   "cell_type": "code",
   "execution_count": null,
   "metadata": {
    "collapsed": true
   },
   "outputs": [],
   "source": []
  }
 ],
 "metadata": {
  "kernelspec": {
   "display_name": "Python 3",
   "language": "python",
   "name": "python3"
  },
  "language_info": {
   "codemirror_mode": {
    "name": "ipython",
    "version": 3
   },
   "file_extension": ".py",
   "mimetype": "text/x-python",
   "name": "python",
   "nbconvert_exporter": "python",
   "pygments_lexer": "ipython3",
   "version": "3.5.3"
  },
  "toc": {
   "nav_menu": {},
   "number_sections": true,
   "sideBar": true,
   "skip_h1_title": false,
   "toc_cell": false,
   "toc_position": {},
   "toc_section_display": "block",
   "toc_window_display": false
  },
  "varInspector": {
   "cols": {
    "lenName": 16,
    "lenType": 16,
    "lenVar": 40
   },
   "kernels_config": {
    "python": {
     "delete_cmd_postfix": "",
     "delete_cmd_prefix": "del ",
     "library": "var_list.py",
     "varRefreshCmd": "print(var_dic_list())"
    },
    "r": {
     "delete_cmd_postfix": ") ",
     "delete_cmd_prefix": "rm(",
     "library": "var_list.r",
     "varRefreshCmd": "cat(var_dic_list()) "
    }
   },
   "types_to_exclude": [
    "module",
    "function",
    "builtin_function_or_method",
    "instance",
    "_Feature"
   ],
   "window_display": false
  }
 },
 "nbformat": 4,
 "nbformat_minor": 2
}
