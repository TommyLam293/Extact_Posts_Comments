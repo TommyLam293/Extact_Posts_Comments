{
 "cells": [
  {
   "cell_type": "code",
   "execution_count": 1,
   "metadata": {
    "collapsed": true
   },
   "outputs": [],
   "source": [
    "import requests\n",
    "from bs4 import BeautifulSoup\n",
    "import regex as re\n",
    "import csv\n",
    "import pandas as pd"
   ]
  },
  {
   "cell_type": "markdown",
   "metadata": {},
   "source": [
    "# Input URL for Extraction"
   ]
  },
  {
   "cell_type": "code",
   "execution_count": 3,
   "metadata": {},
   "outputs": [
    {
     "name": "stdout",
     "output_type": "stream",
     "text": [
      "27218989\n"
     ]
    }
   ],
   "source": [
    "url = 'http://www.discuss.com.hk/viewthread.php?tid=27218989'\n",
    "post_id = url.split('=')[1]\n",
    "print(post_id)"
   ]
  },
  {
   "cell_type": "markdown",
   "metadata": {},
   "source": [
    "# Create to CSV"
   ]
  },
  {
   "cell_type": "code",
   "execution_count": 23,
   "metadata": {},
   "outputs": [
    {
     "data": {
      "text/plain": [
       "19"
      ]
     },
     "execution_count": 23,
     "metadata": {},
     "output_type": "execute_result"
    }
   ],
   "source": [
    "quote_message_csv = open('quote_message.csv', 'w', encoding='utf-8-sig')\n",
    "\n",
    "quote_message_csv_writer = csv.writer(quote_message_csv)\n",
    "quote_message_csv_writer.writerow(['quote_id', 'message_id'])\n",
    "\n",
    "\n",
    "\n",
    "\n",
    "message_csv = open('message.csv', 'w', encoding='utf-8-sig')\n",
    "\n",
    "message_csv_writer = csv.writer(message_csv)\n",
    "message_csv_writer.writerow(['message_id', 'message', 'author_id', 'message_date'])\n",
    "\n",
    "\n",
    "\n",
    "\n",
    "post_message_csv = open('post_message.csv', 'w', encoding='utf-8-sig')\n",
    "\n",
    "post_message_csv_writer = csv.writer(post_message_csv)\n",
    "post_message_csv_writer.writerow(['post_id', 'messag_id'])"
   ]
  },
  {
   "cell_type": "code",
   "execution_count": 4,
   "metadata": {},
   "outputs": [
    {
     "data": {
      "text/plain": [
       "<Response [200]>"
      ]
     },
     "execution_count": 4,
     "metadata": {},
     "output_type": "execute_result"
    }
   ],
   "source": [
    "response = requests.get(url)\n",
    "response.raise_for_status()\n",
    "response.encoding = \"big5\"\n",
    "\n",
    "response"
   ]
  },
  {
   "cell_type": "code",
   "execution_count": 5,
   "metadata": {
    "collapsed": true
   },
   "outputs": [],
   "source": [
    "soup = BeautifulSoup(response.text, 'lxml')"
   ]
  },
  {
   "cell_type": "markdown",
   "metadata": {},
   "source": [
    "# Get Number of Pages of a Post"
   ]
  },
  {
   "cell_type": "code",
   "execution_count": 6,
   "metadata": {
    "collapsed": true
   },
   "outputs": [],
   "source": [
    "# Number of Pages\n",
    "\n",
    "last = soup.find('a', class_='last')\n",
    "\n",
    "if last is not None:\n",
    "    last_page = last.text.split(' ')[1]\n",
    "else:\n",
    "    last_page = soup.find('div', class_='pages').find_all('a')[-2].text"
   ]
  },
  {
   "cell_type": "markdown",
   "metadata": {},
   "source": [
    "# Store the data to CSV"
   ]
  },
  {
   "cell_type": "code",
   "execution_count": 24,
   "metadata": {
    "collapsed": true
   },
   "outputs": [],
   "source": [
    "\n",
    "count = 1\n",
    "for i in range(0, int(last_page)):\n",
    "    markup = url + '&extra=&page=' + str(i+1)\n",
    "#     print(markup)\n",
    "#     print()\n",
    "    \n",
    "    response = requests.get(markup)\n",
    "    response.raise_for_status()\n",
    "    response.encoding = \"big5\"\n",
    "#     print(response)\n",
    "#     print()\n",
    "    \n",
    "    soup = BeautifulSoup(response.text, 'lxml')\n",
    "\n",
    "    mainbox_viewthreads = soup.find_all('div', class_='mainbox viewthread')\n",
    "\n",
    "    for mainbox_viewthread in mainbox_viewthreads:\n",
    "\n",
    "        # Author\n",
    "        postauthor = mainbox_viewthread.find('td',class_='postauthor')\n",
    "        author = postauthor.a.text\n",
    "        try:\n",
    "            author_id = postauthor.a['href'].split('=')[1]\n",
    "        except:\n",
    "            author_id = ''\n",
    "\n",
    "        # Quote\n",
    "        postcontent = mainbox_viewthread.find('td',class_='postcontent')\n",
    "        quote = postcontent.find('div',class_='quote')\n",
    "\n",
    "        if quote is not None:\n",
    "            quote_message = quote.text.strip().split(' ')[2-3].strip()\n",
    "            quote_message_id = quote.a['href'].split('&')[1].split('=')[1]\n",
    "\n",
    "        else:\n",
    "            quote_message = ''\n",
    "            quote_message_id = ''\n",
    "\n",
    "        # Message\n",
    "        if quote is not None:\n",
    "            message = postcontent.find('div',class_='t_msgfont').span.text.strip().split(' ')[2-3]\n",
    "            message_id = postcontent.find('div',class_='t_msgfont').span['id'].split('_')[1]\n",
    "\n",
    "        else: \n",
    "            message = postcontent.find('div',class_='t_msgfont').span.text.strip()\n",
    "            message_id = postcontent.find('div',class_='t_msgfont').span['id'].split('_')[1]\n",
    "            \n",
    "        # Post Date\n",
    "        postinfo = mainbox_viewthread.find('div',class_='postinfo')\n",
    "        message_date = postinfo.text.strip().split(' ')[3]\n",
    "\n",
    "        # Write to CSV\n",
    "        if quote is not None:\n",
    "            quote_message_csv_writer.writerow([quote_message_id, message_id])\n",
    "        message_csv_writer.writerow([message_id, message, author_id, message_date])\n",
    "        post_message_csv_writer.writerow([post_id, message_id])\n",
    "        \n",
    "        count += 1\n",
    "\n",
    "quote_message_csv.close()\n",
    "message_csv.close()\n",
    "post_message_csv.close()\n",
    "    "
   ]
  },
  {
   "cell_type": "code",
   "execution_count": null,
   "metadata": {
    "collapsed": true
   },
   "outputs": [],
   "source": [
    "#         print('Count: ', count)\n",
    "        \n",
    "#         print('Author ID: ',author_id)        \n",
    "#         print('Author: ', author)\n",
    "\n",
    "#         print('Quote ID: ', quote_message_id)\n",
    "#         print('Quote: ', quote_message)\n",
    "        \n",
    "#         print('Message ID: ', message_id)\n",
    "#         print('Message: ', message)\n",
    "        \n",
    "#         print('Post Date: ', post_date)\n",
    "        \n",
    "#         print()\n",
    "#         print('<--------------------------------------------------------------------------------------------->')\n",
    "#         print() \n",
    "  \n"
   ]
  },
  {
   "cell_type": "code",
   "execution_count": null,
   "metadata": {
    "collapsed": true
   },
   "outputs": [],
   "source": [
    "# <div class='mainbox viewthread>\n",
    "#     <td class='postauthor'>\n",
    "#     </td>\n",
    "#     <td class='postcontent'>\n",
    "#         <div id='postinfo'></div>\n",
    "#         <div id='ad_thread2_2'></div>\n",
    "#         <div class='postmessage defaultpost'>\n",
    "#             <div id='ad_thread3_2'></div>\n",
    "#             <div id='ad_thread4_2'></div>\n",
    "#             <div id='postmessage_########' class='t_msgfont'>\n",
    "#                 <span id='postorig_#########'>\n",
    "#                     <div class='quote'>\n",
    "#                         <blockquote>\n",
    "#                             'QUOTE'\n",
    "#                         </blockquote>\n",
    "#                     </div>\n",
    "#                     'CONTENT'\n",
    "#                 </span>\n",
    "#                 <div id='div-gpt-ad-1488855305143-0'></div>\n",
    "#             </div>\n",
    "#         </div>\n",
    "#     </td>\n",
    "# </div>"
   ]
  }
 ],
 "metadata": {
  "kernelspec": {
   "display_name": "Python 3",
   "language": "python",
   "name": "python3"
  },
  "language_info": {
   "codemirror_mode": {
    "name": "ipython",
    "version": 3
   },
   "file_extension": ".py",
   "mimetype": "text/x-python",
   "name": "python",
   "nbconvert_exporter": "python",
   "pygments_lexer": "ipython3",
   "version": "3.5.3"
  },
  "toc": {
   "nav_menu": {},
   "number_sections": true,
   "sideBar": true,
   "skip_h1_title": false,
   "toc_cell": false,
   "toc_position": {},
   "toc_section_display": "block",
   "toc_window_display": false
  },
  "varInspector": {
   "cols": {
    "lenName": 16,
    "lenType": 16,
    "lenVar": 40
   },
   "kernels_config": {
    "python": {
     "delete_cmd_postfix": "",
     "delete_cmd_prefix": "del ",
     "library": "var_list.py",
     "varRefreshCmd": "print(var_dic_list())"
    },
    "r": {
     "delete_cmd_postfix": ") ",
     "delete_cmd_prefix": "rm(",
     "library": "var_list.r",
     "varRefreshCmd": "cat(var_dic_list()) "
    }
   },
   "types_to_exclude": [
    "module",
    "function",
    "builtin_function_or_method",
    "instance",
    "_Feature"
   ],
   "window_display": false
  }
 },
 "nbformat": 4,
 "nbformat_minor": 2
}
